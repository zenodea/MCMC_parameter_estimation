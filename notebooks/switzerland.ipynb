{
 "cells": [
  {
   "cell_type": "code",
   "execution_count": 1,
   "metadata": {},
   "outputs": [],
   "source": [
    "import pandas as pd\n"
   ]
  },
  {
   "cell_type": "code",
   "execution_count": 2,
   "metadata": {},
   "outputs": [
    {
     "data": {
      "text/html": [
       "<div>\n",
       "<style scoped>\n",
       "    .dataframe tbody tr th:only-of-type {\n",
       "        vertical-align: middle;\n",
       "    }\n",
       "\n",
       "    .dataframe tbody tr th {\n",
       "        vertical-align: top;\n",
       "    }\n",
       "\n",
       "    .dataframe thead th {\n",
       "        text-align: right;\n",
       "    }\n",
       "</style>\n",
       "<table border=\"1\" class=\"dataframe\">\n",
       "  <thead>\n",
       "    <tr style=\"text-align: right;\">\n",
       "      <th></th>\n",
       "      <th>date</th>\n",
       "      <th>cumDeath</th>\n",
       "      <th>new_cases</th>\n",
       "    </tr>\n",
       "  </thead>\n",
       "  <tbody>\n",
       "    <tr>\n",
       "      <th>219801</th>\n",
       "      <td>2020-02-25</td>\n",
       "      <td>0</td>\n",
       "      <td>1.0</td>\n",
       "    </tr>\n",
       "    <tr>\n",
       "      <th>219802</th>\n",
       "      <td>2020-02-26</td>\n",
       "      <td>0</td>\n",
       "      <td>0.0</td>\n",
       "    </tr>\n",
       "    <tr>\n",
       "      <th>219803</th>\n",
       "      <td>2020-02-27</td>\n",
       "      <td>0</td>\n",
       "      <td>7.0</td>\n",
       "    </tr>\n",
       "    <tr>\n",
       "      <th>219804</th>\n",
       "      <td>2020-02-28</td>\n",
       "      <td>0</td>\n",
       "      <td>0.0</td>\n",
       "    </tr>\n",
       "    <tr>\n",
       "      <th>219805</th>\n",
       "      <td>2020-02-29</td>\n",
       "      <td>0</td>\n",
       "      <td>10.0</td>\n",
       "    </tr>\n",
       "    <tr>\n",
       "      <th>...</th>\n",
       "      <td>...</td>\n",
       "      <td>...</td>\n",
       "      <td>...</td>\n",
       "    </tr>\n",
       "    <tr>\n",
       "      <th>220870</th>\n",
       "      <td>2023-01-29</td>\n",
       "      <td>14244</td>\n",
       "      <td>0.0</td>\n",
       "    </tr>\n",
       "    <tr>\n",
       "      <th>220871</th>\n",
       "      <td>2023-01-30</td>\n",
       "      <td>14244</td>\n",
       "      <td>807.0</td>\n",
       "    </tr>\n",
       "    <tr>\n",
       "      <th>220872</th>\n",
       "      <td>2023-01-31</td>\n",
       "      <td>14244</td>\n",
       "      <td>865.0</td>\n",
       "    </tr>\n",
       "    <tr>\n",
       "      <th>220873</th>\n",
       "      <td>2023-02-01</td>\n",
       "      <td>14244</td>\n",
       "      <td>0.0</td>\n",
       "    </tr>\n",
       "    <tr>\n",
       "      <th>220874</th>\n",
       "      <td>2023-02-02</td>\n",
       "      <td>14244</td>\n",
       "      <td>0.0</td>\n",
       "    </tr>\n",
       "  </tbody>\n",
       "</table>\n",
       "<p>1074 rows × 3 columns</p>\n",
       "</div>"
      ],
      "text/plain": [
       "              date  cumDeath  new_cases\n",
       "219801  2020-02-25         0        1.0\n",
       "219802  2020-02-26         0        0.0\n",
       "219803  2020-02-27         0        7.0\n",
       "219804  2020-02-28         0        0.0\n",
       "219805  2020-02-29         0       10.0\n",
       "...            ...       ...        ...\n",
       "220870  2023-01-29     14244        0.0\n",
       "220871  2023-01-30     14244      807.0\n",
       "220872  2023-01-31     14244      865.0\n",
       "220873  2023-02-01     14244        0.0\n",
       "220874  2023-02-02     14244        0.0\n",
       "\n",
       "[1074 rows x 3 columns]"
      ]
     },
     "execution_count": 2,
     "metadata": {},
     "output_type": "execute_result"
    }
   ],
   "source": [
    "df = pd.read_csv('../raw_data/Covid_Data/owid-covid-data.csv', sep=\",\")\n",
    "df = df.loc[df['location'] == \"Switzerland\"]\n",
    "df = df[['date','total_deaths','new_cases']]\n",
    "df = df.fillna(0)\n",
    "df = df.rename(columns={\"date\": \"date\", \"total_deaths\": \"cumDeath\"})\n",
    "df['cumDeath'] = df['cumDeath'].astype(int)\n",
    "df"
   ]
  },
  {
   "cell_type": "code",
   "execution_count": 4,
   "metadata": {},
   "outputs": [],
   "source": [
    "df.to_csv('../processed_data/cumDeathSwitzerland.csv', index=False)"
   ]
  }
 ],
 "metadata": {
  "kernelspec": {
   "display_name": "Python 3.9.6 64-bit",
   "language": "python",
   "name": "python3"
  },
  "language_info": {
   "codemirror_mode": {
    "name": "ipython",
    "version": 3
   },
   "file_extension": ".py",
   "mimetype": "text/x-python",
   "name": "python",
   "nbconvert_exporter": "python",
   "pygments_lexer": "ipython3",
   "version": "3.9.6"
  },
  "orig_nbformat": 4,
  "vscode": {
   "interpreter": {
    "hash": "31f2aee4e71d21fbe5cf8b01ff0e069b9275f58929596ceb00d14d90e3e16cd6"
   }
  }
 },
 "nbformat": 4,
 "nbformat_minor": 2
}
