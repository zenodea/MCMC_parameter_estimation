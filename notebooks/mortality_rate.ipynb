{
 "cells": [
  {
   "cell_type": "code",
   "execution_count": 3,
   "metadata": {},
   "outputs": [],
   "source": [
    "import pandas as pd"
   ]
  },
  {
   "cell_type": "markdown",
   "metadata": {},
   "source": [
    "## First Wave"
   ]
  },
  {
   "cell_type": "markdown",
   "metadata": {},
   "source": [
    "### Main Analysis"
   ]
  },
  {
   "cell_type": "code",
   "execution_count": 8,
   "metadata": {},
   "outputs": [
    {
     "name": "stdout",
     "output_type": "stream",
     "text": [
      "Netherlands\n",
      "count    31.000000\n",
      "mean      2.490026\n",
      "std       2.329341\n",
      "min       0.000000\n",
      "25%       0.703615\n",
      "50%       1.415428\n",
      "75%       4.066322\n",
      "max       7.628488\n",
      "Name: cfr, dtype: float64\n",
      "Germany\n",
      "count    31.000000\n",
      "mean      0.271583\n",
      "std       0.260258\n",
      "min       0.000000\n",
      "25%       0.073189\n",
      "50%       0.210804\n",
      "75%       0.397417\n",
      "max       0.941644\n",
      "Name: cfr, dtype: float64\n",
      "Italy\n",
      "count    31.000000\n",
      "mean      7.369598\n",
      "std       2.826499\n",
      "min       2.007084\n",
      "25%       5.005342\n",
      "50%       7.712652\n",
      "75%       9.682533\n",
      "max      11.747580\n",
      "Name: cfr, dtype: float64\n",
      "Spain\n",
      "count    31.000000\n",
      "mean      4.244468\n",
      "std       2.793910\n",
      "min       0.000000\n",
      "25%       2.218219\n",
      "50%       3.706078\n",
      "75%       6.808770\n",
      "max       8.823744\n",
      "Name: cfr, dtype: float64\n",
      "United Kingdom\n",
      "count    31.000000\n",
      "mean      5.604735\n",
      "std       3.702474\n",
      "min       2.003082\n",
      "25%       2.396911\n",
      "50%       4.288817\n",
      "75%       8.298740\n",
      "max      13.358798\n",
      "Name: cfr, dtype: float64\n"
     ]
    }
   ],
   "source": [
    "country_names = ['Netherlands', 'Germany','Italy','Spain','United Kingdom']\n",
    "for country in country_names:\n",
    "    df = pd.read_csv('../raw_data/Covid_Data/owid-covid-data.csv', sep=\",\")\n",
    "    df = df.loc[df['location'] == country]\n",
    "    df = df[['date','total_deaths','total_cases']]\n",
    "    df = df.fillna(0)\n",
    "    df = df.rename(columns={\"date\": \"date\", \"total_deaths\": \"cumDeath\"})\n",
    "    df['cfr'] = df['cumDeath']/df['total_cases'] * 100\n",
    "    df['cumDeath'] = df['cumDeath'].astype(int)\n",
    "    mask = (df['date'] >= \"2020-03-01\") & (df['date'] <= \"2020-03-31\")\n",
    "    df = df.loc[mask]\n",
    "    print(country)\n",
    "    print(df['cfr'].describe())"
   ]
  },
  {
   "cell_type": "markdown",
   "metadata": {},
   "source": [
    "### Extended Analysis"
   ]
  },
  {
   "cell_type": "code",
   "execution_count": 5,
   "metadata": {},
   "outputs": [
    {
     "name": "stdout",
     "output_type": "stream",
     "text": [
      "Sweden\n",
      "count    31.000000\n",
      "mean      2.225821\n",
      "std       2.676633\n",
      "min       0.000000\n",
      "25%       0.000000\n",
      "50%       0.698080\n",
      "75%       4.015704\n",
      "max       7.964419\n",
      "Name: cfr, dtype: float64\n",
      "Switzerland\n",
      "count    31.000000\n",
      "mean      1.249490\n",
      "std       0.829274\n",
      "min       0.000000\n",
      "25%       0.564116\n",
      "50%       1.473366\n",
      "75%       1.616617\n",
      "max       2.920807\n",
      "Name: cfr, dtype: float64\n"
     ]
    }
   ],
   "source": [
    "country_names = ['Sweden','Switzerland']\n",
    "for country in country_names:\n",
    "    df = pd.read_csv('../raw_data/Covid_Data/owid-covid-data.csv', sep=\",\")\n",
    "    df = df.loc[df['location'] == country]\n",
    "    df = df[['date','total_deaths','total_cases']]\n",
    "    df = df.fillna(0)\n",
    "    df = df.rename(columns={\"date\": \"date\", \"total_deaths\": \"cumDeath\"})\n",
    "    df['cfr'] = df['cumDeath']/df['total_cases'] * 100\n",
    "    df['cumDeath'] = df['cumDeath'].astype(int)\n",
    "    mask = (df['date'] >= \"2020-03-01\") & (df['date'] <= \"2020-03-31\")\n",
    "    df = df.loc[mask]\n",
    "    print(country)\n",
    "    print(df['cfr'].describe())"
   ]
  },
  {
   "cell_type": "markdown",
   "metadata": {},
   "source": [
    "## Second Wave"
   ]
  },
  {
   "cell_type": "markdown",
   "metadata": {},
   "source": [
    "### Main Analysis"
   ]
  },
  {
   "cell_type": "code",
   "execution_count": 6,
   "metadata": {},
   "outputs": [
    {
     "name": "stdout",
     "output_type": "stream",
     "text": [
      "Netherlands\n",
      "count    31.000000\n",
      "mean      1.000804\n",
      "std       0.035992\n",
      "min       0.954835\n",
      "25%       0.966849\n",
      "50%       0.994309\n",
      "75%       1.036761\n",
      "max       1.052514\n",
      "Name: cfr, dtype: float64\n",
      "France\n",
      "count    31.000000\n",
      "mean      1.880544\n",
      "std       0.030235\n",
      "min       1.813708\n",
      "25%       1.857971\n",
      "50%       1.893747\n",
      "75%       1.904931\n",
      "max       1.909457\n",
      "Name: cfr, dtype: float64\n",
      "Germany\n",
      "count    31.000000\n",
      "mean      2.439151\n",
      "std       0.002709\n",
      "min       2.432777\n",
      "25%       2.438101\n",
      "50%       2.440074\n",
      "75%       2.441079\n",
      "max       2.441951\n",
      "Name: cfr, dtype: float64\n",
      "Italy\n",
      "count    31.000000\n",
      "mean      2.979817\n",
      "std       0.015896\n",
      "min       2.943958\n",
      "25%       2.968363\n",
      "50%       2.986326\n",
      "75%       2.993195\n",
      "max       2.994545\n",
      "Name: cfr, dtype: float64\n",
      "Spain\n",
      "count    31.000000\n",
      "mean      1.981919\n",
      "std       0.095041\n",
      "min       1.832363\n",
      "25%       1.897497\n",
      "50%       1.977844\n",
      "75%       2.063052\n",
      "max       2.116633\n",
      "Name: cfr, dtype: float64\n",
      "United Kingdom\n",
      "count    31.000000\n",
      "mean      2.922203\n",
      "std       0.175101\n",
      "min       2.673085\n",
      "25%       2.757855\n",
      "50%       2.913601\n",
      "75%       3.075280\n",
      "max       3.204871\n",
      "Name: cfr, dtype: float64\n"
     ]
    }
   ],
   "source": [
    "country_names = ['Netherlands', 'France', 'Germany','Italy','Spain','United Kingdom']\n",
    "for country in country_names:\n",
    "    df = pd.read_csv('../raw_data/Covid_Data/owid-covid-data.csv', sep=\",\")\n",
    "    df = df.loc[df['location'] == country]\n",
    "    df = df[['date','total_deaths','total_cases']]\n",
    "    df = df.fillna(0)\n",
    "    df = df.rename(columns={\"date\": \"date\", \"total_deaths\": \"cumDeath\"})\n",
    "    df['cfr'] = df['cumDeath']/df['total_cases'] * 100\n",
    "    df['cumDeath'] = df['cumDeath'].astype(int)\n",
    "    mask = (df['date'] >= \"2021-07-01\") & (df['date'] <= \"2021-07-31\")\n",
    "    df = df.loc[mask]\n",
    "    print(country)\n",
    "    print(df['cfr'].describe())"
   ]
  },
  {
   "cell_type": "markdown",
   "metadata": {},
   "source": [
    "### Extended Analysis"
   ]
  },
  {
   "cell_type": "code",
   "execution_count": 7,
   "metadata": {},
   "outputs": [
    {
     "name": "stdout",
     "output_type": "stream",
     "text": [
      "Switzerland\n",
      "count    31.000000\n",
      "mean      1.520814\n",
      "std       0.009400\n",
      "min       1.503905\n",
      "25%       1.512836\n",
      "50%       1.523559\n",
      "75%       1.528843\n",
      "max       1.532049\n",
      "Name: cfr, dtype: float64\n",
      "Sweden\n",
      "count    31.000000\n",
      "mean      1.338045\n",
      "std       0.002834\n",
      "min       1.332224\n",
      "25%       1.335796\n",
      "50%       1.338406\n",
      "75%       1.340311\n",
      "max       1.341521\n",
      "Name: cfr, dtype: float64\n"
     ]
    }
   ],
   "source": [
    "country_names = ['Switzerland','Sweden']\n",
    "for country in country_names:\n",
    "    df = pd.read_csv('../raw_data/Covid_Data/owid-covid-data.csv', sep=\",\")\n",
    "    df = df.loc[df['location'] == country]\n",
    "    df = df[['date','total_deaths','total_cases']]\n",
    "    df = df.fillna(0)\n",
    "    df = df.rename(columns={\"date\": \"date\", \"total_deaths\": \"cumDeath\"})\n",
    "    df['cfr'] = df['cumDeath']/df['total_cases'] * 100\n",
    "    df['cumDeath'] = df['cumDeath'].astype(int)\n",
    "    mask = (df['date'] >= \"2021-07-01\") & (df['date'] <= \"2021-07-31\")\n",
    "    df = df.loc[mask]\n",
    "    print(country)\n",
    "    print(df['cfr'].describe())"
   ]
  }
 ],
 "metadata": {
  "kernelspec": {
   "display_name": "Python 3.9.6 64-bit",
   "language": "python",
   "name": "python3"
  },
  "language_info": {
   "codemirror_mode": {
    "name": "ipython",
    "version": 3
   },
   "file_extension": ".py",
   "mimetype": "text/x-python",
   "name": "python",
   "nbconvert_exporter": "python",
   "pygments_lexer": "ipython3",
   "version": "3.9.6"
  },
  "orig_nbformat": 4,
  "vscode": {
   "interpreter": {
    "hash": "31f2aee4e71d21fbe5cf8b01ff0e069b9275f58929596ceb00d14d90e3e16cd6"
   }
  }
 },
 "nbformat": 4,
 "nbformat_minor": 2
}
