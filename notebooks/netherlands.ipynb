{
 "cells": [
  {
   "cell_type": "code",
   "execution_count": 2,
   "metadata": {},
   "outputs": [],
   "source": [
    "import pandas as pd"
   ]
  },
  {
   "cell_type": "code",
   "execution_count": 21,
   "metadata": {},
   "outputs": [
    {
     "name": "stderr",
     "output_type": "stream",
     "text": [
      "/var/folders/m1/788d4jvn7wz8lm3qp0_815hc0000gn/T/ipykernel_4495/3802443631.py:5: FutureWarning: The default value of numeric_only in DataFrameGroupBy.sum is deprecated. In a future version, numeric_only will default to False. Either specify numeric_only or select only columns which should be valid for the function.\n",
      "  df = df.groupby(['date']).sum()\n"
     ]
    }
   ],
   "source": [
    "df = pd.read_csv(r'../raw_data/Covid_Data/netherlands_covid_data.csv', sep=\";\")\n",
    "df = df.rename(columns={\"Date_of_report\": \"date\", \"Deceased\": \"cumDeath\"})\n",
    "df['date'] = pd.to_datetime(df['date'])\n",
    "df['date'] = df['date'].dt.date\n",
    "df = df.groupby(['date']).sum()\n",
    "df['cumDeath'] = df['cumDeath'].astype(int)"
   ]
  },
  {
   "cell_type": "code",
   "execution_count": 20,
   "metadata": {},
   "outputs": [],
   "source": [
    "df_second = pd.read_csv('../raw_data/Covid_Data/owid-covid-data.csv', sep=\",\")\n",
    "df_second = df_second.loc[df_second['location'] == \"Netherlands\"]\n",
    "df_second = df_second[['date','total_deaths']]\n",
    "mask = (df_second['date'] < \"2020-03-13\")\n",
    "df_second = df_second.loc[mask]\n",
    "df_second = df_second.fillna(0)\n",
    "df_second = df_second.rename(columns={\"date\": \"date\", \"total_deaths\": \"cumDeath\", \"total_cases\":\"cumCases\"})\n",
    "df_second['cumDeath'] = df_second['cumDeath'].astype(int)"
   ]
  },
  {
   "cell_type": "code",
   "execution_count": 23,
   "metadata": {},
   "outputs": [
    {
     "data": {
      "text/html": [
       "<div>\n",
       "<style scoped>\n",
       "    .dataframe tbody tr th:only-of-type {\n",
       "        vertical-align: middle;\n",
       "    }\n",
       "\n",
       "    .dataframe tbody tr th {\n",
       "        vertical-align: top;\n",
       "    }\n",
       "\n",
       "    .dataframe thead th {\n",
       "        text-align: right;\n",
       "    }\n",
       "</style>\n",
       "<table border=\"1\" class=\"dataframe\">\n",
       "  <thead>\n",
       "    <tr style=\"text-align: right;\">\n",
       "      <th></th>\n",
       "      <th>date</th>\n",
       "      <th>cumDeath</th>\n",
       "      <th>Version</th>\n",
       "      <th>Total_reported</th>\n",
       "      <th>Hospital_admission</th>\n",
       "    </tr>\n",
       "  </thead>\n",
       "  <tbody>\n",
       "    <tr>\n",
       "      <th>0</th>\n",
       "      <td>2020-02-27</td>\n",
       "      <td>0</td>\n",
       "      <td>NaN</td>\n",
       "      <td>NaN</td>\n",
       "      <td>NaN</td>\n",
       "    </tr>\n",
       "    <tr>\n",
       "      <th>1</th>\n",
       "      <td>2020-02-28</td>\n",
       "      <td>0</td>\n",
       "      <td>NaN</td>\n",
       "      <td>NaN</td>\n",
       "      <td>NaN</td>\n",
       "    </tr>\n",
       "    <tr>\n",
       "      <th>2</th>\n",
       "      <td>2020-02-29</td>\n",
       "      <td>0</td>\n",
       "      <td>NaN</td>\n",
       "      <td>NaN</td>\n",
       "      <td>NaN</td>\n",
       "    </tr>\n",
       "    <tr>\n",
       "      <th>3</th>\n",
       "      <td>2020-03-01</td>\n",
       "      <td>0</td>\n",
       "      <td>NaN</td>\n",
       "      <td>NaN</td>\n",
       "      <td>NaN</td>\n",
       "    </tr>\n",
       "    <tr>\n",
       "      <th>4</th>\n",
       "      <td>2020-03-02</td>\n",
       "      <td>0</td>\n",
       "      <td>NaN</td>\n",
       "      <td>NaN</td>\n",
       "      <td>NaN</td>\n",
       "    </tr>\n",
       "    <tr>\n",
       "      <th>...</th>\n",
       "      <td>...</td>\n",
       "      <td>...</td>\n",
       "      <td>...</td>\n",
       "      <td>...</td>\n",
       "      <td>...</td>\n",
       "    </tr>\n",
       "    <tr>\n",
       "      <th>926</th>\n",
       "      <td>2023-03-17</td>\n",
       "      <td>10648935</td>\n",
       "      <td>8520.0</td>\n",
       "      <td>25816599.0</td>\n",
       "      <td>10648935.0</td>\n",
       "    </tr>\n",
       "    <tr>\n",
       "      <th>927</th>\n",
       "      <td>2023-03-21</td>\n",
       "      <td>14198580</td>\n",
       "      <td>11360.0</td>\n",
       "      <td>34426126.0</td>\n",
       "      <td>14198580.0</td>\n",
       "    </tr>\n",
       "    <tr>\n",
       "      <th>928</th>\n",
       "      <td>2023-03-24</td>\n",
       "      <td>10648935</td>\n",
       "      <td>8520.0</td>\n",
       "      <td>25823445.0</td>\n",
       "      <td>10648935.0</td>\n",
       "    </tr>\n",
       "    <tr>\n",
       "      <th>929</th>\n",
       "      <td>2023-03-28</td>\n",
       "      <td>14198580</td>\n",
       "      <td>11360.0</td>\n",
       "      <td>34434105.0</td>\n",
       "      <td>14198580.0</td>\n",
       "    </tr>\n",
       "    <tr>\n",
       "      <th>930</th>\n",
       "      <td>2023-03-31</td>\n",
       "      <td>10648935</td>\n",
       "      <td>8520.0</td>\n",
       "      <td>25828395.0</td>\n",
       "      <td>10648935.0</td>\n",
       "    </tr>\n",
       "  </tbody>\n",
       "</table>\n",
       "<p>931 rows × 5 columns</p>\n",
       "</div>"
      ],
      "text/plain": [
       "           date  cumDeath  Version  Total_reported  Hospital_admission\n",
       "0    2020-02-27         0      NaN             NaN                 NaN\n",
       "1    2020-02-28         0      NaN             NaN                 NaN\n",
       "2    2020-02-29         0      NaN             NaN                 NaN\n",
       "3    2020-03-01         0      NaN             NaN                 NaN\n",
       "4    2020-03-02         0      NaN             NaN                 NaN\n",
       "..          ...       ...      ...             ...                 ...\n",
       "926  2023-03-17  10648935   8520.0      25816599.0          10648935.0\n",
       "927  2023-03-21  14198580  11360.0      34426126.0          14198580.0\n",
       "928  2023-03-24  10648935   8520.0      25823445.0          10648935.0\n",
       "929  2023-03-28  14198580  11360.0      34434105.0          14198580.0\n",
       "930  2023-03-31  10648935   8520.0      25828395.0          10648935.0\n",
       "\n",
       "[931 rows x 5 columns]"
      ]
     },
     "execution_count": 23,
     "metadata": {},
     "output_type": "execute_result"
    }
   ],
   "source": [
    "merged_df = df_second.merge(df, how = 'outer', on = ['date','cumDeath'])\n",
    "merged_df"
   ]
  },
  {
   "cell_type": "code",
   "execution_count": 26,
   "metadata": {},
   "outputs": [],
   "source": [
    "merged_df.to_csv('../processed_data/cumDeathNetherlands.csv')"
   ]
  }
 ],
 "metadata": {
  "kernelspec": {
   "display_name": "Python 3.9.6 64-bit",
   "language": "python",
   "name": "python3"
  },
  "language_info": {
   "codemirror_mode": {
    "name": "ipython",
    "version": 3
   },
   "file_extension": ".py",
   "mimetype": "text/x-python",
   "name": "python",
   "nbconvert_exporter": "python",
   "pygments_lexer": "ipython3",
   "version": "3.9.6"
  },
  "orig_nbformat": 4,
  "vscode": {
   "interpreter": {
    "hash": "31f2aee4e71d21fbe5cf8b01ff0e069b9275f58929596ceb00d14d90e3e16cd6"
   }
  }
 },
 "nbformat": 4,
 "nbformat_minor": 2
}
